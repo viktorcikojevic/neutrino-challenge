{
 "cells": [
  {
   "cell_type": "code",
   "execution_count": 9,
   "metadata": {},
   "outputs": [],
   "source": [
    "import numpy as np\n",
    "import pandas as pd\n",
    "import matplotlib.pyplot as plt"
   ]
  },
  {
   "cell_type": "code",
   "execution_count": 10,
   "metadata": {},
   "outputs": [
    {
     "data": {
      "text/html": [
       "<div>\n",
       "<style scoped>\n",
       "    .dataframe tbody tr th:only-of-type {\n",
       "        vertical-align: middle;\n",
       "    }\n",
       "\n",
       "    .dataframe tbody tr th {\n",
       "        vertical-align: top;\n",
       "    }\n",
       "\n",
       "    .dataframe thead th {\n",
       "        text-align: right;\n",
       "    }\n",
       "</style>\n",
       "<table border=\"1\" class=\"dataframe\">\n",
       "  <thead>\n",
       "    <tr style=\"text-align: right;\">\n",
       "      <th></th>\n",
       "      <th>Unnamed: 0</th>\n",
       "      <th>n_elements</th>\n",
       "      <th>loss_angular_vals</th>\n",
       "    </tr>\n",
       "  </thead>\n",
       "  <tbody>\n",
       "    <tr>\n",
       "      <th>0</th>\n",
       "      <td>0</td>\n",
       "      <td>10.0</td>\n",
       "      <td>2.623044</td>\n",
       "    </tr>\n",
       "    <tr>\n",
       "      <th>1</th>\n",
       "      <td>1</td>\n",
       "      <td>11.0</td>\n",
       "      <td>2.682388</td>\n",
       "    </tr>\n",
       "    <tr>\n",
       "      <th>2</th>\n",
       "      <td>2</td>\n",
       "      <td>13.0</td>\n",
       "      <td>2.954562</td>\n",
       "    </tr>\n",
       "    <tr>\n",
       "      <th>3</th>\n",
       "      <td>3</td>\n",
       "      <td>14.0</td>\n",
       "      <td>1.868329</td>\n",
       "    </tr>\n",
       "    <tr>\n",
       "      <th>4</th>\n",
       "      <td>4</td>\n",
       "      <td>14.0</td>\n",
       "      <td>1.479355</td>\n",
       "    </tr>\n",
       "    <tr>\n",
       "      <th>...</th>\n",
       "      <td>...</td>\n",
       "      <td>...</td>\n",
       "      <td>...</td>\n",
       "    </tr>\n",
       "    <tr>\n",
       "      <th>511995</th>\n",
       "      <td>511995</td>\n",
       "      <td>64.0</td>\n",
       "      <td>2.893788</td>\n",
       "    </tr>\n",
       "    <tr>\n",
       "      <th>511996</th>\n",
       "      <td>511996</td>\n",
       "      <td>64.0</td>\n",
       "      <td>0.048406</td>\n",
       "    </tr>\n",
       "    <tr>\n",
       "      <th>511997</th>\n",
       "      <td>511997</td>\n",
       "      <td>64.0</td>\n",
       "      <td>0.286353</td>\n",
       "    </tr>\n",
       "    <tr>\n",
       "      <th>511998</th>\n",
       "      <td>511998</td>\n",
       "      <td>64.0</td>\n",
       "      <td>0.171110</td>\n",
       "    </tr>\n",
       "    <tr>\n",
       "      <th>511999</th>\n",
       "      <td>511999</td>\n",
       "      <td>64.0</td>\n",
       "      <td>0.057629</td>\n",
       "    </tr>\n",
       "  </tbody>\n",
       "</table>\n",
       "<p>512000 rows × 3 columns</p>\n",
       "</div>"
      ],
      "text/plain": [
       "        Unnamed: 0  n_elements  loss_angular_vals\n",
       "0                0        10.0           2.623044\n",
       "1                1        11.0           2.682388\n",
       "2                2        13.0           2.954562\n",
       "3                3        14.0           1.868329\n",
       "4                4        14.0           1.479355\n",
       "...            ...         ...                ...\n",
       "511995      511995        64.0           2.893788\n",
       "511996      511996        64.0           0.048406\n",
       "511997      511997        64.0           0.286353\n",
       "511998      511998        64.0           0.171110\n",
       "511999      511999        64.0           0.057629\n",
       "\n",
       "[512000 rows x 3 columns]"
      ]
     },
     "execution_count": 10,
     "metadata": {},
     "output_type": "execute_result"
    }
   ],
   "source": [
    "# load analysis-64b.csv and analysis-96b.csv\n",
    "df_64 = pd.read_csv(\"analysis-64b.csv\").reset_index(drop=True)\n",
    "df_96 = pd.read_csv(\"analysis-96b.csv\").reset_index(drop=True)\n",
    "df_64"
   ]
  },
  {
   "cell_type": "code",
   "execution_count": 11,
   "metadata": {},
   "outputs": [],
   "source": [
    "df_64['n_elements'] = df_64['n_elements'].astype(int)\n",
    "# group by n_elements and calculate the mean and std / count of the loss_angular_vals\n",
    "df_64_agg = df_64.groupby('n_elements').agg({'loss_angular_vals': ['mean', 'std', 'count']}).reset_index()"
   ]
  },
  {
   "cell_type": "code",
   "execution_count": 12,
   "metadata": {},
   "outputs": [],
   "source": [
    "df_96['n_elements'] = df_96['n_elements'].astype(int)\n",
    "# group by n_elements and calculate the mean and std / count of the loss_angular_vals\n",
    "df_96_agg = df_96.groupby('n_elements').agg({'loss_angular_vals': ['mean', 'std', 'count']}).reset_index()"
   ]
  },
  {
   "cell_type": "code",
   "execution_count": 13,
   "metadata": {},
   "outputs": [
    {
     "data": {
      "text/plain": [
       "<matplotlib.legend.Legend at 0x7f8fc27b34a8>"
      ]
     },
     "execution_count": 13,
     "metadata": {},
     "output_type": "execute_result"
    },
    {
     "data": {
      "image/png": "[encoded data removed]",
      "text/plain": [
       "<Figure size 720x432 with 1 Axes>"
      ]
     },
     "metadata": {
      "needs_background": "light"
     },
     "output_type": "display_data"
    }
   ],
   "source": [
    "# plot the mean and std of the loss_angular_vals as a function of n_elements\n",
    "plt.figure(figsize=(10, 6))\n",
    "\n",
    "plt.errorbar(df_64_agg['n_elements'], df_64_agg['loss_angular_vals']['mean'], yerr=df_64_agg['loss_angular_vals']['std'] / np.sqrt(df_64_agg['loss_angular_vals']['count']), fmt='o', label='64')\n",
    "plt.errorbar(df_96_agg['n_elements'], df_96_agg['loss_angular_vals']['mean'], yerr=df_96_agg['loss_angular_vals']['std'] / np.sqrt(df_96_agg['loss_angular_vals']['count']), fmt='o', label='96')\n",
    "\n",
    "\n",
    "# put horizontal line at 1\n",
    "plt.axhline(1, color='k', linestyle='--', label='1')\n",
    "plt.axhline(1.05, color='k', linestyle='-.', label='1')\n",
    "\n",
    "\n",
    "plt.ylim(0.7, 1.5)\n",
    "plt.legend(loc=\"best\")"
   ]
  },
  {
   "cell_type": "code",
   "execution_count": 14,
   "metadata": {},
   "outputs": [
    {
     "data": {
      "text/plain": [
       "(1.0702443957963819, 1.0502000858133431)"
      ]
     },
     "execution_count": 14,
     "metadata": {},
     "output_type": "execute_result"
    }
   ],
   "source": [
    "np.average(df_64[\"loss_angular_vals\"]), np.average(df_96[\"loss_angular_vals\"])"
   ]
  },
  {
   "cell_type": "code",
   "execution_count": 15,
   "metadata": {},
   "outputs": [
    {
     "name": "stdout",
     "output_type": "stream",
     "text": [
      "Slope: -0.000596\n",
      "Intercept: 1.105880\n"
     ]
    }
   ],
   "source": [
    "import numpy as np\n",
    "\n",
    "# define the data\n",
    "x = np.array([64, 96])\n",
    "y = np.array([1.06772816368189, 1.0486524521148568])\n",
    "\n",
    "# fit a linear function to the data\n",
    "coeffs = np.polyfit(x, y, 1)\n",
    "\n",
    "# print the coefficients of the linear function\n",
    "print('Slope: {:.6f}'.format(coeffs[0]))\n",
    "print('Intercept: {:.6f}'.format(coeffs[1]))\n",
    "\n",
    "\n"
   ]
  },
  {
   "cell_type": "code",
   "execution_count": 16,
   "metadata": {},
   "outputs": [
    {
     "name": "stdout",
     "output_type": "stream",
     "text": [
      "x = 263.42\n"
     ]
    }
   ],
   "source": [
    "# find for which x the y=1\n",
    "x = (1 - 1.090352) / -0.000343\n",
    "print('x = {:.2f}'.format(x))\n"
   ]
  }
 ],
 "metadata": {
  "kernelspec": {
   "display_name": "pytorch",
   "language": "python",
   "name": "python3"
  },
  "language_info": {
   "codemirror_mode": {
    "name": "ipython",
    "version": 3
   },
   "file_extension": ".py",
   "mimetype": "text/x-python",
   "name": "python",
   "nbconvert_exporter": "python",
   "pygments_lexer": "ipython3",
   "version": "3.6.13"
  },
  "orig_nbformat": 4
 },
 "nbformat": 4,
 "nbformat_minor": 2
}
